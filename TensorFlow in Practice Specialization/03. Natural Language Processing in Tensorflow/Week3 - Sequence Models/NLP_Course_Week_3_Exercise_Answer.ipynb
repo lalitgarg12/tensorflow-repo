{
  "nbformat": 4,
  "nbformat_minor": 0,
  "metadata": {
    "accelerator": "GPU",
    "colab": {
      "name": "NLP Course - Week 3 Exercise Answer.ipynb",
      "provenance": [],
      "toc_visible": true
    },
    "kernelspec": {
      "display_name": "Python 3",
      "language": "python",
      "name": "python3"
    },
    "language_info": {
      "codemirror_mode": {
        "name": "ipython",
        "version": 3
      },
      "file_extension": ".py",
      "mimetype": "text/x-python",
      "name": "python",
      "nbconvert_exporter": "python",
      "pygments_lexer": "ipython3",
      "version": "3.7.6"
    }
  },
  "cells": [
    {
      "cell_type": "code",
      "metadata": {
        "colab_type": "code",
        "id": "zX4Kg8DUTKWO",
        "colab": {}
      },
      "source": [
        "#@title Licensed under the Apache License, Version 2.0 (the \"License\");\n",
        "# you may not use this file except in compliance with the License.\n",
        "# You may obtain a copy of the License at\n",
        "#\n",
        "# https://www.apache.org/licenses/LICENSE-2.0\n",
        "#\n",
        "# Unless required by applicable law or agreed to in writing, software\n",
        "# distributed under the License is distributed on an \"AS IS\" BASIS,\n",
        "# WITHOUT WARRANTIES OR CONDITIONS OF ANY KIND, either express or implied.\n",
        "# See the License for the specific language governing permissions and\n",
        "# limitations under the License."
      ],
      "execution_count": null,
      "outputs": []
    },
    {
      "cell_type": "markdown",
      "metadata": {
        "id": "sAah6yPHoow5",
        "colab_type": "text"
      },
      "source": [
        "<a href=\"https://colab.research.google.com/github/lmoroney/dlaicourse/blob/master/TensorFlow%20In%20Practice/Course%203%20-%20NLP/NLP%20Course%20-%20Week%203%20Exercise%20Answer.ipynb\" target=\"_parent\"><img src=\"https://colab.research.google.com/assets/colab-badge.svg\" alt=\"Open In Colab\"/></a>"
      ]
    },
    {
      "cell_type": "code",
      "metadata": {
        "colab_type": "code",
        "id": "hmA6EzkQJ5jt",
        "colab": {}
      },
      "source": [
        "import json\n",
        "import tensorflow as tf\n",
        "import csv\n",
        "import random\n",
        "import numpy as np\n",
        "\n",
        "from tensorflow.keras.preprocessing.text import Tokenizer\n",
        "from tensorflow.keras.preprocessing.sequence import pad_sequences\n",
        "from tensorflow.keras.utils import to_categorical\n",
        "from tensorflow.keras import regularizers\n",
        "\n",
        "\n",
        "embedding_dim = 100\n",
        "max_length = 16\n",
        "trunc_type='post'\n",
        "padding_type='post'\n",
        "oov_tok = \"<OOV>\"\n",
        "training_size=160000\n",
        "test_portion=.1\n",
        "\n",
        "corpus = []\n"
      ],
      "execution_count": 1,
      "outputs": []
    },
    {
      "cell_type": "code",
      "metadata": {
        "colab_type": "code",
        "id": "bM0l_dORKqE0",
        "colab": {
          "base_uri": "https://localhost:8080/",
          "height": 202
        },
        "outputId": "66c10cdf-8fac-4746-c56b-6396019ce258"
      },
      "source": [
        "# Note that I cleaned the Stanford dataset to remove LATIN1 encoding to make it easier for Python CSV reader\n",
        "# You can do that yourself with:\n",
        "# iconv -f LATIN1 -t UTF8 training.1600000.processed.noemoticon.csv -o training_cleaned.csv\n",
        "# I then hosted it on my site to make it easier to use in this notebook\n",
        "\n",
        "!wget --no-check-certificate \\\n",
        "    https://storage.googleapis.com/laurencemoroney-blog.appspot.com/training_cleaned.csv \\\n",
        "    -O /tmp/training_cleaned.csv\n",
        "\n",
        "num_sentences = 0\n",
        "\n",
        "with open(\"/tmp/training_cleaned.csv\") as csvfile:\n",
        "    reader = csv.reader(csvfile, delimiter=',')\n",
        "    for row in reader:\n",
        "        list_item=[]\n",
        "        list_item.append(row[5])\n",
        "        this_label=row[0]\n",
        "        if this_label=='0':\n",
        "            list_item.append(0)\n",
        "        else:\n",
        "            list_item.append(1)\n",
        "        num_sentences = num_sentences + 1\n",
        "        corpus.append(list_item)\n"
      ],
      "execution_count": 2,
      "outputs": [
        {
          "output_type": "stream",
          "text": [
            "--2020-06-23 00:52:02--  https://storage.googleapis.com/laurencemoroney-blog.appspot.com/training_cleaned.csv\n",
            "Resolving storage.googleapis.com (storage.googleapis.com)... 74.125.197.128, 2607:f8b0:400e:c09::80\n",
            "Connecting to storage.googleapis.com (storage.googleapis.com)|74.125.197.128|:443... connected.\n",
            "HTTP request sent, awaiting response... 200 OK\n",
            "Length: 238942690 (228M) [application/octet-stream]\n",
            "Saving to: ‘/tmp/training_cleaned.csv’\n",
            "\n",
            "/tmp/training_clean 100%[===================>] 227.87M   135MB/s    in 1.7s    \n",
            "\n",
            "2020-06-23 00:52:04 (135 MB/s) - ‘/tmp/training_cleaned.csv’ saved [238942690/238942690]\n",
            "\n"
          ],
          "name": "stdout"
        }
      ]
    },
    {
      "cell_type": "code",
      "metadata": {
        "colab_type": "code",
        "id": "3kxblBUjEUX-",
        "colab": {
          "base_uri": "https://localhost:8080/",
          "height": 67
        },
        "outputId": "8a6ba3c0-503d-4157-9f19-a31733d8b1d2"
      },
      "source": [
        "print(num_sentences)\n",
        "print(len(corpus))\n",
        "print(corpus[1])\n",
        "\n",
        "# Expected Output:\n",
        "# 1600000\n",
        "# 1600000\n",
        "# [\"is upset that he can't update his Facebook by texting it... and might cry as a result  School today also. Blah!\", 0]"
      ],
      "execution_count": 3,
      "outputs": [
        {
          "output_type": "stream",
          "text": [
            "1600000\n",
            "1600000\n",
            "[\"is upset that he can't update his Facebook by texting it... and might cry as a result  School today also. Blah!\", 0]\n"
          ],
          "name": "stdout"
        }
      ]
    },
    {
      "cell_type": "code",
      "metadata": {
        "colab_type": "code",
        "id": "ohOGz24lsNAD",
        "colab": {}
      },
      "source": [
        "sentences=[]\n",
        "labels=[]\n",
        "random.shuffle(corpus)\n",
        "for x in range(training_size):\n",
        "    sentences.append(corpus[x][0])\n",
        "    labels.append(corpus[x][1])\n",
        "\n",
        "\n",
        "tokenizer = Tokenizer()\n",
        "tokenizer.fit_on_texts(sentences)\n",
        "\n",
        "word_index = tokenizer.word_index\n",
        "vocab_size=len(word_index)\n",
        "\n",
        "sequences = tokenizer.texts_to_sequences(sentences)\n",
        "padded = pad_sequences(sequences, maxlen=max_length, padding=padding_type, truncating=trunc_type)\n",
        "\n",
        "split = int(test_portion * training_size)\n",
        "\n",
        "test_sequences = padded[0:split]\n",
        "training_sequences = padded[split:training_size]\n",
        "test_labels = labels[0:split]\n",
        "training_labels = labels[split:training_size]"
      ],
      "execution_count": 6,
      "outputs": []
    },
    {
      "cell_type": "code",
      "metadata": {
        "colab_type": "code",
        "id": "gIrtRem1En3N",
        "colab": {
          "base_uri": "https://localhost:8080/",
          "height": 50
        },
        "outputId": "9f02f6b7-d155-4aaf-d03e-b84e80d65bcf"
      },
      "source": [
        "print(vocab_size)\n",
        "print(word_index['i'])\n",
        "# Expected Output\n",
        "# 138858\n",
        "# 1"
      ],
      "execution_count": 7,
      "outputs": [
        {
          "output_type": "stream",
          "text": [
            "138725\n",
            "1\n"
          ],
          "name": "stdout"
        }
      ]
    },
    {
      "cell_type": "code",
      "metadata": {
        "colab_type": "code",
        "id": "C1zdgJkusRh0",
        "colab": {
          "base_uri": "https://localhost:8080/",
          "height": 202
        },
        "outputId": "f71b912a-0f65-425f-a85c-2f2475ce85c8"
      },
      "source": [
        "# Note this is the 100 dimension version of GloVe from Stanford\n",
        "# I unzipped and hosted it on my site to make this notebook easier\n",
        "!wget --no-check-certificate \\\n",
        "    https://storage.googleapis.com/laurencemoroney-blog.appspot.com/glove.6B.100d.txt \\\n",
        "    -O /tmp/glove.6B.100d.txt\n",
        "embeddings_index = {};\n",
        "with open('/tmp/glove.6B.100d.txt') as f:\n",
        "    for line in f:\n",
        "        values = line.split();\n",
        "        word = values[0];\n",
        "        coefs = np.asarray(values[1:], dtype='float32');\n",
        "        embeddings_index[word] = coefs;\n",
        "\n",
        "embeddings_matrix = np.zeros((vocab_size+1, embedding_dim));\n",
        "for word, i in word_index.items():\n",
        "    embedding_vector = embeddings_index.get(word);\n",
        "    if embedding_vector is not None:\n",
        "        embeddings_matrix[i] = embedding_vector;"
      ],
      "execution_count": 8,
      "outputs": [
        {
          "output_type": "stream",
          "text": [
            "--2020-06-23 01:02:59--  https://storage.googleapis.com/laurencemoroney-blog.appspot.com/glove.6B.100d.txt\n",
            "Resolving storage.googleapis.com (storage.googleapis.com)... 74.125.142.128, 2607:f8b0:400e:c09::80\n",
            "Connecting to storage.googleapis.com (storage.googleapis.com)|74.125.142.128|:443... connected.\n",
            "HTTP request sent, awaiting response... 200 OK\n",
            "Length: 347116733 (331M) [text/plain]\n",
            "Saving to: ‘/tmp/glove.6B.100d.txt’\n",
            "\n",
            "/tmp/glove.6B.100d. 100%[===================>] 331.04M   111MB/s    in 3.0s    \n",
            "\n",
            "2020-06-23 01:03:02 (111 MB/s) - ‘/tmp/glove.6B.100d.txt’ saved [347116733/347116733]\n",
            "\n"
          ],
          "name": "stdout"
        }
      ]
    },
    {
      "cell_type": "code",
      "metadata": {
        "colab_type": "code",
        "id": "71NLk_lpFLNt",
        "colab": {
          "base_uri": "https://localhost:8080/",
          "height": 34
        },
        "outputId": "3b045ab8-e504-4280-d011-93f9898160ef"
      },
      "source": [
        "print(len(embeddings_matrix))\n",
        "# Expected Output\n",
        "# 138859"
      ],
      "execution_count": 9,
      "outputs": [
        {
          "output_type": "stream",
          "text": [
            "138726\n"
          ],
          "name": "stdout"
        }
      ]
    },
    {
      "cell_type": "code",
      "metadata": {
        "colab_type": "code",
        "id": "iKKvbuEBOGFz",
        "colab": {
          "base_uri": "https://localhost:8080/",
          "height": 1000
        },
        "outputId": "fbcbda01-fc05-4b7b-fbdd-098cc9768fd4"
      },
      "source": [
        "model = tf.keras.Sequential([\n",
        "    tf.keras.layers.Embedding(vocab_size+1, embedding_dim, input_length=max_length, weights=[embeddings_matrix], trainable=False),\n",
        "    tf.keras.layers.Dropout(0.2),\n",
        "    tf.keras.layers.Conv1D(64, 5, activation='relu'),\n",
        "    tf.keras.layers.MaxPooling1D(pool_size=4),\n",
        "    tf.keras.layers.LSTM(64),\n",
        "    tf.keras.layers.Dense(1, activation='sigmoid')\n",
        "])\n",
        "model.compile(loss='binary_crossentropy',optimizer='adam',metrics=['accuracy'])\n",
        "model.summary()\n",
        "\n",
        "num_epochs = 50\n",
        "\n",
        "training_padded = np.array(training_sequences)\n",
        "training_labels = np.array(training_labels)\n",
        "testing_padded = np.array(test_sequences)\n",
        "testing_labels = np.array(test_labels)\n",
        "\n",
        "history = model.fit(training_padded, training_labels, epochs=num_epochs, validation_data=(testing_padded, testing_labels), verbose=2)\n",
        "\n",
        "print(\"Training Complete\")"
      ],
      "execution_count": 10,
      "outputs": [
        {
          "output_type": "stream",
          "text": [
            "Model: \"sequential\"\n",
            "_________________________________________________________________\n",
            "Layer (type)                 Output Shape              Param #   \n",
            "=================================================================\n",
            "embedding (Embedding)        (None, 16, 100)           13872600  \n",
            "_________________________________________________________________\n",
            "dropout (Dropout)            (None, 16, 100)           0         \n",
            "_________________________________________________________________\n",
            "conv1d (Conv1D)              (None, 12, 64)            32064     \n",
            "_________________________________________________________________\n",
            "max_pooling1d (MaxPooling1D) (None, 3, 64)             0         \n",
            "_________________________________________________________________\n",
            "lstm (LSTM)                  (None, 64)                33024     \n",
            "_________________________________________________________________\n",
            "dense (Dense)                (None, 1)                 65        \n",
            "=================================================================\n",
            "Total params: 13,937,753\n",
            "Trainable params: 65,153\n",
            "Non-trainable params: 13,872,600\n",
            "_________________________________________________________________\n",
            "Epoch 1/50\n",
            "4500/4500 - 21s - loss: 0.5677 - accuracy: 0.6981 - val_loss: 0.5255 - val_accuracy: 0.7326\n",
            "Epoch 2/50\n",
            "4500/4500 - 20s - loss: 0.5282 - accuracy: 0.7308 - val_loss: 0.5187 - val_accuracy: 0.7358\n",
            "Epoch 3/50\n",
            "4500/4500 - 20s - loss: 0.5123 - accuracy: 0.7429 - val_loss: 0.5088 - val_accuracy: 0.7456\n",
            "Epoch 4/50\n",
            "4500/4500 - 20s - loss: 0.5000 - accuracy: 0.7516 - val_loss: 0.5021 - val_accuracy: 0.7516\n",
            "Epoch 5/50\n",
            "4500/4500 - 20s - loss: 0.4916 - accuracy: 0.7567 - val_loss: 0.4986 - val_accuracy: 0.7529\n",
            "Epoch 6/50\n",
            "4500/4500 - 20s - loss: 0.4857 - accuracy: 0.7598 - val_loss: 0.5056 - val_accuracy: 0.7492\n",
            "Epoch 7/50\n",
            "4500/4500 - 20s - loss: 0.4802 - accuracy: 0.7644 - val_loss: 0.4965 - val_accuracy: 0.7538\n",
            "Epoch 8/50\n",
            "4500/4500 - 20s - loss: 0.4737 - accuracy: 0.7683 - val_loss: 0.5036 - val_accuracy: 0.7526\n",
            "Epoch 9/50\n",
            "4500/4500 - 21s - loss: 0.4696 - accuracy: 0.7708 - val_loss: 0.5027 - val_accuracy: 0.7505\n",
            "Epoch 10/50\n",
            "4500/4500 - 20s - loss: 0.4651 - accuracy: 0.7751 - val_loss: 0.5013 - val_accuracy: 0.7513\n",
            "Epoch 11/50\n",
            "4500/4500 - 20s - loss: 0.4626 - accuracy: 0.7746 - val_loss: 0.5016 - val_accuracy: 0.7528\n",
            "Epoch 12/50\n",
            "4500/4500 - 21s - loss: 0.4606 - accuracy: 0.7764 - val_loss: 0.5042 - val_accuracy: 0.7534\n",
            "Epoch 13/50\n",
            "4500/4500 - 20s - loss: 0.4573 - accuracy: 0.7792 - val_loss: 0.5060 - val_accuracy: 0.7504\n",
            "Epoch 14/50\n",
            "4500/4500 - 20s - loss: 0.4541 - accuracy: 0.7798 - val_loss: 0.5083 - val_accuracy: 0.7496\n",
            "Epoch 15/50\n",
            "4500/4500 - 20s - loss: 0.4507 - accuracy: 0.7819 - val_loss: 0.5067 - val_accuracy: 0.7524\n",
            "Epoch 16/50\n",
            "4500/4500 - 20s - loss: 0.4507 - accuracy: 0.7828 - val_loss: 0.5093 - val_accuracy: 0.7509\n",
            "Epoch 17/50\n",
            "4500/4500 - 20s - loss: 0.4483 - accuracy: 0.7839 - val_loss: 0.5080 - val_accuracy: 0.7509\n",
            "Epoch 18/50\n",
            "4500/4500 - 20s - loss: 0.4475 - accuracy: 0.7849 - val_loss: 0.5075 - val_accuracy: 0.7489\n",
            "Epoch 19/50\n",
            "4500/4500 - 20s - loss: 0.4466 - accuracy: 0.7855 - val_loss: 0.5096 - val_accuracy: 0.7504\n",
            "Epoch 20/50\n",
            "4500/4500 - 20s - loss: 0.4436 - accuracy: 0.7881 - val_loss: 0.5132 - val_accuracy: 0.7501\n",
            "Epoch 21/50\n",
            "4500/4500 - 20s - loss: 0.4433 - accuracy: 0.7868 - val_loss: 0.5145 - val_accuracy: 0.7486\n",
            "Epoch 22/50\n",
            "4500/4500 - 20s - loss: 0.4418 - accuracy: 0.7881 - val_loss: 0.5124 - val_accuracy: 0.7453\n",
            "Epoch 23/50\n",
            "4500/4500 - 20s - loss: 0.4405 - accuracy: 0.7882 - val_loss: 0.5138 - val_accuracy: 0.7500\n",
            "Epoch 24/50\n",
            "4500/4500 - 20s - loss: 0.4410 - accuracy: 0.7886 - val_loss: 0.5117 - val_accuracy: 0.7477\n",
            "Epoch 25/50\n",
            "4500/4500 - 21s - loss: 0.4380 - accuracy: 0.7910 - val_loss: 0.5167 - val_accuracy: 0.7509\n",
            "Epoch 26/50\n",
            "4500/4500 - 20s - loss: 0.4364 - accuracy: 0.7911 - val_loss: 0.5270 - val_accuracy: 0.7452\n",
            "Epoch 27/50\n",
            "4500/4500 - 20s - loss: 0.4360 - accuracy: 0.7921 - val_loss: 0.5153 - val_accuracy: 0.7463\n",
            "Epoch 28/50\n",
            "4500/4500 - 20s - loss: 0.4350 - accuracy: 0.7928 - val_loss: 0.5218 - val_accuracy: 0.7494\n",
            "Epoch 29/50\n",
            "4500/4500 - 20s - loss: 0.4359 - accuracy: 0.7928 - val_loss: 0.5218 - val_accuracy: 0.7431\n",
            "Epoch 30/50\n",
            "4500/4500 - 20s - loss: 0.4354 - accuracy: 0.7908 - val_loss: 0.5197 - val_accuracy: 0.7456\n",
            "Epoch 31/50\n",
            "4500/4500 - 20s - loss: 0.4329 - accuracy: 0.7924 - val_loss: 0.5194 - val_accuracy: 0.7476\n",
            "Epoch 32/50\n",
            "4500/4500 - 20s - loss: 0.4346 - accuracy: 0.7920 - val_loss: 0.5224 - val_accuracy: 0.7461\n",
            "Epoch 33/50\n",
            "4500/4500 - 20s - loss: 0.4334 - accuracy: 0.7934 - val_loss: 0.5215 - val_accuracy: 0.7459\n",
            "Epoch 34/50\n",
            "4500/4500 - 20s - loss: 0.4320 - accuracy: 0.7939 - val_loss: 0.5286 - val_accuracy: 0.7442\n",
            "Epoch 35/50\n",
            "4500/4500 - 20s - loss: 0.4331 - accuracy: 0.7934 - val_loss: 0.5216 - val_accuracy: 0.7485\n",
            "Epoch 36/50\n",
            "4500/4500 - 20s - loss: 0.4320 - accuracy: 0.7942 - val_loss: 0.5227 - val_accuracy: 0.7442\n",
            "Epoch 37/50\n",
            "4500/4500 - 20s - loss: 0.4317 - accuracy: 0.7943 - val_loss: 0.5254 - val_accuracy: 0.7477\n",
            "Epoch 38/50\n",
            "4500/4500 - 20s - loss: 0.4303 - accuracy: 0.7946 - val_loss: 0.5156 - val_accuracy: 0.7481\n",
            "Epoch 39/50\n",
            "4500/4500 - 20s - loss: 0.4313 - accuracy: 0.7938 - val_loss: 0.5195 - val_accuracy: 0.7457\n",
            "Epoch 40/50\n",
            "4500/4500 - 21s - loss: 0.4304 - accuracy: 0.7942 - val_loss: 0.5239 - val_accuracy: 0.7441\n",
            "Epoch 41/50\n",
            "4500/4500 - 20s - loss: 0.4293 - accuracy: 0.7955 - val_loss: 0.5251 - val_accuracy: 0.7458\n",
            "Epoch 42/50\n",
            "4500/4500 - 20s - loss: 0.4290 - accuracy: 0.7951 - val_loss: 0.5241 - val_accuracy: 0.7441\n",
            "Epoch 43/50\n",
            "4500/4500 - 20s - loss: 0.4300 - accuracy: 0.7958 - val_loss: 0.5250 - val_accuracy: 0.7419\n",
            "Epoch 44/50\n",
            "4500/4500 - 20s - loss: 0.4289 - accuracy: 0.7959 - val_loss: 0.5246 - val_accuracy: 0.7439\n",
            "Epoch 45/50\n",
            "4500/4500 - 20s - loss: 0.4294 - accuracy: 0.7950 - val_loss: 0.5244 - val_accuracy: 0.7426\n",
            "Epoch 46/50\n",
            "4500/4500 - 20s - loss: 0.4278 - accuracy: 0.7969 - val_loss: 0.5257 - val_accuracy: 0.7451\n",
            "Epoch 47/50\n",
            "4500/4500 - 20s - loss: 0.4307 - accuracy: 0.7945 - val_loss: 0.5276 - val_accuracy: 0.7461\n",
            "Epoch 48/50\n",
            "4500/4500 - 20s - loss: 0.4303 - accuracy: 0.7950 - val_loss: 0.5225 - val_accuracy: 0.7440\n",
            "Epoch 49/50\n",
            "4500/4500 - 20s - loss: 0.4279 - accuracy: 0.7964 - val_loss: 0.5289 - val_accuracy: 0.7435\n",
            "Epoch 50/50\n",
            "4500/4500 - 20s - loss: 0.4277 - accuracy: 0.7957 - val_loss: 0.5256 - val_accuracy: 0.7419\n",
            "Training Complete\n"
          ],
          "name": "stdout"
        }
      ]
    },
    {
      "cell_type": "code",
      "metadata": {
        "colab_type": "code",
        "id": "qxju4ItJKO8F",
        "colab": {
          "base_uri": "https://localhost:8080/",
          "height": 606
        },
        "outputId": "c3beda0c-210f-4d1e-b191-7fe3425acdab"
      },
      "source": [
        "import matplotlib.image  as mpimg\n",
        "import matplotlib.pyplot as plt\n",
        "\n",
        "#-----------------------------------------------------------\n",
        "# Retrieve a list of list results on training and test data\n",
        "# sets for each training epoch\n",
        "#-----------------------------------------------------------\n",
        "acc=history.history['accuracy']\n",
        "val_acc=history.history['val_accuracy']\n",
        "loss=history.history['loss']\n",
        "val_loss=history.history['val_loss']\n",
        "\n",
        "epochs=range(len(acc)) # Get number of epochs\n",
        "\n",
        "#------------------------------------------------\n",
        "# Plot training and validation accuracy per epoch\n",
        "#------------------------------------------------\n",
        "plt.plot(epochs, acc, 'r')\n",
        "plt.plot(epochs, val_acc, 'b')\n",
        "plt.title('Training and validation accuracy')\n",
        "plt.xlabel(\"Epochs\")\n",
        "plt.ylabel(\"Accuracy\")\n",
        "plt.legend([\"Accuracy\", \"Validation Accuracy\"])\n",
        "\n",
        "plt.figure()\n",
        "\n",
        "#------------------------------------------------\n",
        "# Plot training and validation loss per epoch\n",
        "#------------------------------------------------\n",
        "plt.plot(epochs, loss, 'r')\n",
        "plt.plot(epochs, val_loss, 'b')\n",
        "plt.title('Training and validation loss')\n",
        "plt.xlabel(\"Epochs\")\n",
        "plt.ylabel(\"Loss\")\n",
        "plt.legend([\"Loss\", \"Validation Loss\"])\n",
        "\n",
        "plt.figure()\n",
        "\n",
        "\n",
        "# Expected Output\n",
        "# A chart where the validation loss does not increase sharply!"
      ],
      "execution_count": 11,
      "outputs": [
        {
          "output_type": "execute_result",
          "data": {
            "text/plain": [
              "<Figure size 432x288 with 0 Axes>"
            ]
          },
          "metadata": {
            "tags": []
          },
          "execution_count": 11
        },
        {
          "output_type": "display_data",
          "data": {
            "image/png": "[encoded data removed]",
            "text/plain": [
              "<Figure size 432x288 with 1 Axes>"
            ]
          },
          "metadata": {
            "tags": [],
            "needs_background": "light"
          }
        },
        {
          "output_type": "display_data",
          "data": {
            "image/png": "[encoded data removed]",
            "text/plain": [
              "<Figure size 432x288 with 1 Axes>"
            ]
          },
          "metadata": {
            "tags": [],
            "needs_background": "light"
          }
        },
        {
          "output_type": "display_data",
          "data": {
            "text/plain": [
              "<Figure size 432x288 with 0 Axes>"
            ]
          },
          "metadata": {
            "tags": []
          }
        }
      ]
    }
  ]
}